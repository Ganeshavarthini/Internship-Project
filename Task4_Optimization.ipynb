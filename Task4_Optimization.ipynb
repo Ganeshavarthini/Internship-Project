{
  "nbformat": 4,
  "nbformat_minor": 0,
  "metadata": {
    "colab": {
      "provenance": [],
      "authorship_tag": "ABX9TyMkUO+ZhXNa1GtP/2lBdFE9",
      "include_colab_link": true
    },
    "kernelspec": {
      "name": "python3",
      "display_name": "Python 3"
    },
    "language_info": {
      "name": "python"
    }
  },
  "cells": [
    {
      "cell_type": "markdown",
      "metadata": {
        "id": "view-in-github",
        "colab_type": "text"
      },
      "source": [
        "<a href=\"https://colab.research.google.com/github/Ganeshavarthini/Internship-Project/blob/main/Task4_Optimization.ipynb\" target=\"_parent\"><img src=\"https://colab.research.google.com/assets/colab-badge.svg\" alt=\"Open In Colab\"/></a>"
      ]
    },
    {
      "cell_type": "code",
      "execution_count": 1,
      "metadata": {
        "colab": {
          "base_uri": "https://localhost:8080/"
        },
        "id": "L8tUASeidz0E",
        "outputId": "635ff1da-ab6c-4691-a294-1f3b94cd9b30"
      },
      "outputs": [
        {
          "output_type": "stream",
          "name": "stdout",
          "text": [
            "Collecting pulp\n",
            "  Downloading pulp-3.2.1-py3-none-any.whl.metadata (6.9 kB)\n",
            "Downloading pulp-3.2.1-py3-none-any.whl (16.4 MB)\n",
            "\u001b[2K   \u001b[90m━━━━━━━━━━━━━━━━━━━━━━━━━━━━━━━━━━━━━━━━\u001b[0m \u001b[32m16.4/16.4 MB\u001b[0m \u001b[31m78.0 MB/s\u001b[0m eta \u001b[36m0:00:00\u001b[0m\n",
            "\u001b[?25hInstalling collected packages: pulp\n",
            "Successfully installed pulp-3.2.1\n"
          ]
        }
      ],
      "source": [
        "pip install pulp"
      ]
    },
    {
      "cell_type": "code",
      "source": [
        "# task4_optimization.py\n",
        "\n",
        "from pulp import LpMaximize, LpProblem, LpVariable, value\n",
        "\n",
        "# Step 1: Define the problem\n",
        "model = LpProblem(name=\"product-mix-optimization\", sense=LpMaximize)\n",
        "\n",
        "# Step 2: Define decision variables\n",
        "x = LpVariable(name=\"Product_A_units\", lowBound=0, cat='Continuous')\n",
        "y = LpVariable(name=\"Product_B_units\", lowBound=0, cat='Continuous')\n",
        "\n",
        "# Step 3: Add constraints\n",
        "model += (2 * x + 4 * y <= 100, \"Machine_Time\")\n",
        "model += (3 * x + 2 * y <= 120, \"Raw_Material\")\n",
        "\n",
        "# Step 4: Set objective function\n",
        "model += 40 * x + 50 * y, \"Total_Profit\"\n",
        "\n",
        "# Step 5: Solve the problem\n",
        "status = model.solve()\n",
        "\n",
        "# Step 6: Output the results\n",
        "from pulp import LpStatus\n",
        "\n",
        "print(f\"Status: {LpStatus[model.status]}\")\n",
        "print(f\"Optimal number of Product A to produce: {x.value():.2f}\")\n",
        "print(f\"Optimal number of Product B to produce: {y.value():.2f}\")\n",
        "print(f\"Maximum Profit: ₹{value(model.objective):.2f}\")\n"
      ],
      "metadata": {
        "colab": {
          "base_uri": "https://localhost:8080/"
        },
        "id": "tZLJu-OQd9VF",
        "outputId": "2f0323d6-9931-4723-d899-4d34b45071d9"
      },
      "execution_count": 3,
      "outputs": [
        {
          "output_type": "stream",
          "name": "stdout",
          "text": [
            "Status: Optimal\n",
            "Optimal number of Product A to produce: 35.00\n",
            "Optimal number of Product B to produce: 7.50\n",
            "Maximum Profit: ₹1775.00\n"
          ]
        }
      ]
    }
  ]
}